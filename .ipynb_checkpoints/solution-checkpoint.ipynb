{
 "cells": [
  {
   "cell_type": "code",
   "execution_count": 1,
   "metadata": {},
   "outputs": [],
   "source": [
    "import pandas as pd\n",
    "import seaborn as sns\n",
    "from sklearn.metrics.pairwise import cosine_similarity\n",
    "import matplotlib.pyplot as plt\n",
    "import seaborn as sns\n",
    "import turicreate as tc"
   ]
  },
  {
   "cell_type": "code",
   "execution_count": 2,
   "metadata": {},
   "outputs": [
    {
     "name": "stdout",
     "output_type": "stream",
     "text": [
      "580\n",
      "         beer_beerid  review_overall\n",
      "count  475404.000000   475404.000000\n",
      "mean    21663.213797        3.814463\n",
      "std     21794.755619        0.720518\n",
      "min         3.000000        0.000000\n",
      "25%      1716.000000        3.500000\n",
      "50%     13896.000000        4.000000\n",
      "75%     39397.250000        4.500000\n",
      "max     77317.000000        5.000000\n"
     ]
    }
   ],
   "source": [
    "\n",
    "data = pd.read_csv(\"~/Documents/UPGRAD/Recommendation System/BeerMart/beer_data.csv\")\n",
    "#Checking for duplicates\n",
    "print(sum(data.duplicated()))\n",
    "data = data.drop_duplicates()\n",
    "\n",
    "print(data.describe())\n",
    "# averaage rating = 3.8"
   ]
  },
  {
   "cell_type": "code",
   "execution_count": 3,
   "metadata": {},
   "outputs": [
    {
     "data": {
      "text/html": [
       "<div>\n",
       "<style scoped>\n",
       "    .dataframe tbody tr th:only-of-type {\n",
       "        vertical-align: middle;\n",
       "    }\n",
       "\n",
       "    .dataframe tbody tr th {\n",
       "        vertical-align: top;\n",
       "    }\n",
       "\n",
       "    .dataframe thead th {\n",
       "        text-align: right;\n",
       "    }\n",
       "</style>\n",
       "<table border=\"1\" class=\"dataframe\">\n",
       "  <thead>\n",
       "    <tr style=\"text-align: right;\">\n",
       "      <th></th>\n",
       "      <th>beer_beerid</th>\n",
       "      <th>review_profilename</th>\n",
       "      <th>review_overall</th>\n",
       "    </tr>\n",
       "  </thead>\n",
       "  <tbody>\n",
       "    <tr>\n",
       "      <th>0</th>\n",
       "      <td>48215</td>\n",
       "      <td>stcules</td>\n",
       "      <td>3.0</td>\n",
       "    </tr>\n",
       "    <tr>\n",
       "      <th>1</th>\n",
       "      <td>52159</td>\n",
       "      <td>oline73</td>\n",
       "      <td>3.0</td>\n",
       "    </tr>\n",
       "    <tr>\n",
       "      <th>2</th>\n",
       "      <td>52159</td>\n",
       "      <td>alpinebryant</td>\n",
       "      <td>3.0</td>\n",
       "    </tr>\n",
       "    <tr>\n",
       "      <th>3</th>\n",
       "      <td>52159</td>\n",
       "      <td>rawthar</td>\n",
       "      <td>4.0</td>\n",
       "    </tr>\n",
       "    <tr>\n",
       "      <th>4</th>\n",
       "      <td>52159</td>\n",
       "      <td>RangerClegg</td>\n",
       "      <td>3.5</td>\n",
       "    </tr>\n",
       "  </tbody>\n",
       "</table>\n",
       "</div>"
      ],
      "text/plain": [
       "   beer_beerid review_profilename  review_overall\n",
       "0        48215            stcules             3.0\n",
       "1        52159            oline73             3.0\n",
       "2        52159       alpinebryant             3.0\n",
       "3        52159            rawthar             4.0\n",
       "4        52159        RangerClegg             3.5"
      ]
     },
     "execution_count": 3,
     "metadata": {},
     "output_type": "execute_result"
    }
   ],
   "source": [
    "data.head()"
   ]
  },
  {
   "cell_type": "code",
   "execution_count": 4,
   "metadata": {},
   "outputs": [
    {
     "data": {
      "text/plain": [
       "<matplotlib.axes._subplots.AxesSubplot at 0x7fb40ca51240>"
      ]
     },
     "execution_count": 4,
     "metadata": {},
     "output_type": "execute_result"
    },
    {
     "data": {
      "image/png": "[encoded data removed]",
      "text/plain": [
       "<Figure size 432x288 with 1 Axes>"
      ]
     },
     "metadata": {
      "needs_background": "light"
     },
     "output_type": "display_data"
    }
   ],
   "source": [
    "### How are ratings distributed?\n",
    "sns.barplot(x=data.review_overall.value_counts().index, y=data.review_overall.value_counts())"
   ]
  },
  {
   "cell_type": "code",
   "execution_count": 5,
   "metadata": {},
   "outputs": [
    {
     "name": "stdout",
     "output_type": "stream",
     "text": [
      "                    review_overall  Total Ratings\n",
      "review_profilename                               \n",
      "0110x011                  4.285714             35\n",
      "01Ryan10                  5.000000              1\n",
      "03SVTCobra                1.000000              1\n",
      "04101Brewer               4.000000              1\n",
      "05Harley                  4.158537             41\n"
     ]
    },
    {
     "data": {
      "text/plain": [
       "<matplotlib.axes._subplots.AxesSubplot at 0x7fb40c968438>"
      ]
     },
     "execution_count": 5,
     "metadata": {},
     "output_type": "execute_result"
    },
    {
     "data": {
      "image/png": "[encoded data removed]",
      "text/plain": [
       "<Figure size 432x288 with 1 Axes>"
      ]
     },
     "metadata": {
      "needs_background": "light"
     },
     "output_type": "display_data"
    }
   ],
   "source": [
    "### Distribution of Average rating by user?\n",
    "# Average ratings for each user\n",
    "grpBy_User = pd.DataFrame(data.groupby('review_profilename')['review_overall'].mean())\n",
    "# Total Number Of Rating  for each beer\n",
    "grpBy_User['Total Ratings'] = pd.DataFrame(data.groupby('review_profilename')['review_overall'].count())\n",
    "print(grpBy_User.head())\n",
    "grpBy_User['review_overall'].hist(bins=10)"
   ]
  },
  {
   "cell_type": "code",
   "execution_count": 6,
   "metadata": {},
   "outputs": [
    {
     "data": {
      "text/plain": [
       "<matplotlib.axes._subplots.AxesSubplot at 0x7fb40c87f0f0>"
      ]
     },
     "execution_count": 6,
     "metadata": {},
     "output_type": "execute_result"
    },
    {
     "data": {
      "image/png": "[encoded data removed]",
      "text/plain": [
       "<Figure size 432x288 with 1 Axes>"
      ]
     },
     "metadata": {
      "needs_background": "light"
     },
     "output_type": "display_data"
    }
   ],
   "source": [
    "\n",
    "### Distribution of average number of rating given by a user?\n",
    "grpBy_User['Total Ratings'].hist(bins=10)"
   ]
  },
  {
   "cell_type": "code",
   "execution_count": 7,
   "metadata": {},
   "outputs": [
    {
     "name": "stdout",
     "output_type": "stream",
     "text": [
      "             review_overall  Total Ratings\n",
      "beer_beerid                               \n",
      "3                  4.250000              2\n",
      "4                  3.666667              6\n",
      "5                  3.553097            113\n",
      "6                  3.711462            253\n",
      "7                  3.317961            206\n"
     ]
    },
    {
     "data": {
      "text/plain": [
       "<matplotlib.axes._subplots.AxesSubplot at 0x7fb40c8040f0>"
      ]
     },
     "execution_count": 7,
     "metadata": {},
     "output_type": "execute_result"
    },
    {
     "data": {
      "image/png": "[encoded data removed]",
      "text/plain": [
       "<Figure size 432x288 with 1 Axes>"
      ]
     },
     "metadata": {
      "needs_background": "light"
     },
     "output_type": "display_data"
    }
   ],
   "source": [
    "### Distribution of number of rating given to a beer?\n",
    "# Average ratings for each beer\n",
    "grpBy_beer = pd.DataFrame(data.groupby('beer_beerid')['review_overall'].mean())\n",
    "# Total Number Of Rating  for each beer\n",
    "grpBy_beer['Total Ratings'] = pd.DataFrame(data.groupby('beer_beerid')['review_overall'].count())\n",
    "print(grpBy_beer.head())\n",
    "grpBy_beer['Total Ratings'].hist(bins=10)"
   ]
  },
  {
   "cell_type": "markdown",
   "metadata": {},
   "source": [
    " We will only use beers which atleast have more than 100 rating count. Let's check how much beers we would be convering."
   ]
  },
  {
   "cell_type": "code",
   "execution_count": 8,
   "metadata": {},
   "outputs": [
    {
     "name": "stdout",
     "output_type": "stream",
     "text": [
      "Coverage: 2.53051503423638 %\n"
     ]
    }
   ],
   "source": [
    "print('Coverage:',len(grpBy_beer[(grpBy_beer['Total Ratings']>=100)])/len(grpBy_beer)*100,'%')"
   ]
  },
  {
   "cell_type": "markdown",
   "metadata": {},
   "source": [
    "There are 2.53% of beers which have more than 100 ratings and we would be only interested in them. Recommender systems suffer with the problem of cold start and 100 is a good number to give appropriate recommendation. Let's filter our data for only these beers."
   ]
  },
  {
   "cell_type": "code",
   "execution_count": 9,
   "metadata": {},
   "outputs": [
    {
     "data": {
      "text/html": [
       "<div>\n",
       "<style scoped>\n",
       "    .dataframe tbody tr th:only-of-type {\n",
       "        vertical-align: middle;\n",
       "    }\n",
       "\n",
       "    .dataframe tbody tr th {\n",
       "        vertical-align: top;\n",
       "    }\n",
       "\n",
       "    .dataframe thead th {\n",
       "        text-align: right;\n",
       "    }\n",
       "</style>\n",
       "<table border=\"1\" class=\"dataframe\">\n",
       "  <thead>\n",
       "    <tr style=\"text-align: right;\">\n",
       "      <th></th>\n",
       "      <th>beer_beerid</th>\n",
       "      <th>review_overall</th>\n",
       "      <th>Total Ratings</th>\n",
       "    </tr>\n",
       "  </thead>\n",
       "  <tbody>\n",
       "    <tr>\n",
       "      <th>0</th>\n",
       "      <td>5</td>\n",
       "      <td>3.553097</td>\n",
       "      <td>113</td>\n",
       "    </tr>\n",
       "    <tr>\n",
       "      <th>1</th>\n",
       "      <td>6</td>\n",
       "      <td>3.711462</td>\n",
       "      <td>253</td>\n",
       "    </tr>\n",
       "    <tr>\n",
       "      <th>2</th>\n",
       "      <td>7</td>\n",
       "      <td>3.317961</td>\n",
       "      <td>206</td>\n",
       "    </tr>\n",
       "    <tr>\n",
       "      <th>3</th>\n",
       "      <td>10</td>\n",
       "      <td>3.883028</td>\n",
       "      <td>218</td>\n",
       "    </tr>\n",
       "    <tr>\n",
       "      <th>4</th>\n",
       "      <td>17</td>\n",
       "      <td>3.429752</td>\n",
       "      <td>242</td>\n",
       "    </tr>\n",
       "  </tbody>\n",
       "</table>\n",
       "</div>"
      ],
      "text/plain": [
       "   beer_beerid  review_overall  Total Ratings\n",
       "0            5        3.553097            113\n",
       "1            6        3.711462            253\n",
       "2            7        3.317961            206\n",
       "3           10        3.883028            218\n",
       "4           17        3.429752            242"
      ]
     },
     "execution_count": 9,
     "metadata": {},
     "output_type": "execute_result"
    }
   ],
   "source": [
    "beer_of_interest = grpBy_beer[(grpBy_beer['Total Ratings']>=100)].reset_index()\n",
    "beer_of_interest.head()"
   ]
  },
  {
   "cell_type": "markdown",
   "metadata": {},
   "source": [
    "Filter data based on above 100 ratings"
   ]
  },
  {
   "cell_type": "code",
   "execution_count": 10,
   "metadata": {},
   "outputs": [
    {
     "name": "stdout",
     "output_type": "stream",
     "text": [
      "Data Lost: 53.095051787532284 %\n"
     ]
    },
    {
     "data": {
      "text/html": [
       "<div>\n",
       "<style scoped>\n",
       "    .dataframe tbody tr th:only-of-type {\n",
       "        vertical-align: middle;\n",
       "    }\n",
       "\n",
       "    .dataframe tbody tr th {\n",
       "        vertical-align: top;\n",
       "    }\n",
       "\n",
       "    .dataframe thead th {\n",
       "        text-align: right;\n",
       "    }\n",
       "</style>\n",
       "<table border=\"1\" class=\"dataframe\">\n",
       "  <thead>\n",
       "    <tr style=\"text-align: right;\">\n",
       "      <th></th>\n",
       "      <th>beer_beerid</th>\n",
       "      <th>review_profilename</th>\n",
       "      <th>review_overall</th>\n",
       "    </tr>\n",
       "  </thead>\n",
       "  <tbody>\n",
       "    <tr>\n",
       "      <th>12</th>\n",
       "      <td>436</td>\n",
       "      <td>Brent</td>\n",
       "      <td>3.0</td>\n",
       "    </tr>\n",
       "    <tr>\n",
       "      <th>101</th>\n",
       "      <td>10784</td>\n",
       "      <td>CHILLINDYLAN</td>\n",
       "      <td>4.5</td>\n",
       "    </tr>\n",
       "    <tr>\n",
       "      <th>102</th>\n",
       "      <td>10784</td>\n",
       "      <td>JayQue</td>\n",
       "      <td>4.0</td>\n",
       "    </tr>\n",
       "    <tr>\n",
       "      <th>103</th>\n",
       "      <td>10784</td>\n",
       "      <td>AlCaponeJunior</td>\n",
       "      <td>4.0</td>\n",
       "    </tr>\n",
       "    <tr>\n",
       "      <th>104</th>\n",
       "      <td>10784</td>\n",
       "      <td>BEERchitect</td>\n",
       "      <td>4.0</td>\n",
       "    </tr>\n",
       "  </tbody>\n",
       "</table>\n",
       "</div>"
      ],
      "text/plain": [
       "     beer_beerid review_profilename  review_overall\n",
       "12           436              Brent             3.0\n",
       "101        10784       CHILLINDYLAN             4.5\n",
       "102        10784             JayQue             4.0\n",
       "103        10784     AlCaponeJunior             4.0\n",
       "104        10784        BEERchitect             4.0"
      ]
     },
     "execution_count": 10,
     "metadata": {},
     "output_type": "execute_result"
    }
   ],
   "source": [
    "filter_data = data[data.beer_beerid.isin(beer_of_interest.beer_beerid)]\n",
    "print('Data Lost:', 100-len(filter_data)/len(data)*100, '%')\n",
    "filter_data.head()"
   ]
  },
  {
   "cell_type": "markdown",
   "metadata": {},
   "source": [
    "Similarly filter users who have rated more than 10 ratings"
   ]
  },
  {
   "cell_type": "code",
   "execution_count": 11,
   "metadata": {},
   "outputs": [
    {
     "data": {
      "text/html": [
       "<div>\n",
       "<style scoped>\n",
       "    .dataframe tbody tr th:only-of-type {\n",
       "        vertical-align: middle;\n",
       "    }\n",
       "\n",
       "    .dataframe tbody tr th {\n",
       "        vertical-align: top;\n",
       "    }\n",
       "\n",
       "    .dataframe thead th {\n",
       "        text-align: right;\n",
       "    }\n",
       "</style>\n",
       "<table border=\"1\" class=\"dataframe\">\n",
       "  <thead>\n",
       "    <tr style=\"text-align: right;\">\n",
       "      <th></th>\n",
       "      <th>review_profilename</th>\n",
       "      <th>review_overall</th>\n",
       "      <th>Total Ratings</th>\n",
       "    </tr>\n",
       "  </thead>\n",
       "  <tbody>\n",
       "    <tr>\n",
       "      <th>0</th>\n",
       "      <td>0110x011</td>\n",
       "      <td>4.285714</td>\n",
       "      <td>35</td>\n",
       "    </tr>\n",
       "    <tr>\n",
       "      <th>1</th>\n",
       "      <td>05Harley</td>\n",
       "      <td>4.158537</td>\n",
       "      <td>41</td>\n",
       "    </tr>\n",
       "    <tr>\n",
       "      <th>2</th>\n",
       "      <td>0tt0</td>\n",
       "      <td>3.964286</td>\n",
       "      <td>14</td>\n",
       "    </tr>\n",
       "    <tr>\n",
       "      <th>3</th>\n",
       "      <td>100floods</td>\n",
       "      <td>4.022727</td>\n",
       "      <td>44</td>\n",
       "    </tr>\n",
       "    <tr>\n",
       "      <th>4</th>\n",
       "      <td>1099</td>\n",
       "      <td>3.794118</td>\n",
       "      <td>17</td>\n",
       "    </tr>\n",
       "  </tbody>\n",
       "</table>\n",
       "</div>"
      ],
      "text/plain": [
       "  review_profilename  review_overall  Total Ratings\n",
       "0           0110x011        4.285714             35\n",
       "1           05Harley        4.158537             41\n",
       "2               0tt0        3.964286             14\n",
       "3          100floods        4.022727             44\n",
       "4               1099        3.794118             17"
      ]
     },
     "execution_count": 11,
     "metadata": {},
     "output_type": "execute_result"
    }
   ],
   "source": [
    "user_of_interest = grpBy_User[(grpBy_User['Total Ratings']>10)].reset_index()\n",
    "user_of_interest.head()"
   ]
  },
  {
   "cell_type": "markdown",
   "metadata": {},
   "source": [
    "Filter data based on above 10 ratings"
   ]
  },
  {
   "cell_type": "code",
   "execution_count": 12,
   "metadata": {},
   "outputs": [
    {
     "name": "stdout",
     "output_type": "stream",
     "text": [
      "Data Lost: 58.697655047075756 %\n"
     ]
    },
    {
     "data": {
      "text/html": [
       "<div>\n",
       "<style scoped>\n",
       "    .dataframe tbody tr th:only-of-type {\n",
       "        vertical-align: middle;\n",
       "    }\n",
       "\n",
       "    .dataframe tbody tr th {\n",
       "        vertical-align: top;\n",
       "    }\n",
       "\n",
       "    .dataframe thead th {\n",
       "        text-align: right;\n",
       "    }\n",
       "</style>\n",
       "<table border=\"1\" class=\"dataframe\">\n",
       "  <thead>\n",
       "    <tr style=\"text-align: right;\">\n",
       "      <th></th>\n",
       "      <th>beer_beerid</th>\n",
       "      <th>review_profilename</th>\n",
       "      <th>review_overall</th>\n",
       "    </tr>\n",
       "  </thead>\n",
       "  <tbody>\n",
       "    <tr>\n",
       "      <th>12</th>\n",
       "      <td>436</td>\n",
       "      <td>Brent</td>\n",
       "      <td>3.0</td>\n",
       "    </tr>\n",
       "    <tr>\n",
       "      <th>101</th>\n",
       "      <td>10784</td>\n",
       "      <td>CHILLINDYLAN</td>\n",
       "      <td>4.5</td>\n",
       "    </tr>\n",
       "    <tr>\n",
       "      <th>102</th>\n",
       "      <td>10784</td>\n",
       "      <td>JayQue</td>\n",
       "      <td>4.0</td>\n",
       "    </tr>\n",
       "    <tr>\n",
       "      <th>103</th>\n",
       "      <td>10784</td>\n",
       "      <td>AlCaponeJunior</td>\n",
       "      <td>4.0</td>\n",
       "    </tr>\n",
       "    <tr>\n",
       "      <th>104</th>\n",
       "      <td>10784</td>\n",
       "      <td>BEERchitect</td>\n",
       "      <td>4.0</td>\n",
       "    </tr>\n",
       "  </tbody>\n",
       "</table>\n",
       "</div>"
      ],
      "text/plain": [
       "     beer_beerid review_profilename  review_overall\n",
       "12           436              Brent             3.0\n",
       "101        10784       CHILLINDYLAN             4.5\n",
       "102        10784             JayQue             4.0\n",
       "103        10784     AlCaponeJunior             4.0\n",
       "104        10784        BEERchitect             4.0"
      ]
     },
     "execution_count": 12,
     "metadata": {},
     "output_type": "execute_result"
    }
   ],
   "source": [
    "filter_data = filter_data[filter_data.review_profilename.isin(user_of_interest.review_profilename)]\n",
    "print('Data Lost:', 100-len(filter_data)/len(data)*100, '%')\n",
    "filter_data.head()"
   ]
  },
  {
   "cell_type": "code",
   "execution_count": 13,
   "metadata": {},
   "outputs": [
    {
     "data": {
      "text/plain": [
       "beer_beerid           0\n",
       "review_profilename    0\n",
       "review_overall        0\n",
       "dtype: int64"
      ]
     },
     "execution_count": 13,
     "metadata": {},
     "output_type": "execute_result"
    }
   ],
   "source": [
    "filter_data.isna().sum()"
   ]
  },
  {
   "cell_type": "markdown",
   "metadata": {},
   "source": [
    "# Rating Sparse Dataframe"
   ]
  },
  {
   "cell_type": "code",
   "execution_count": 29,
   "metadata": {},
   "outputs": [
    {
     "name": "stdout",
     "output_type": "stream",
     "text": [
      "(5714, 1020)\n"
     ]
    },
    {
     "data": {
      "text/html": [
       "<div>\n",
       "<style scoped>\n",
       "    .dataframe tbody tr th:only-of-type {\n",
       "        vertical-align: middle;\n",
       "    }\n",
       "\n",
       "    .dataframe tbody tr th {\n",
       "        vertical-align: top;\n",
       "    }\n",
       "\n",
       "    .dataframe thead th {\n",
       "        text-align: right;\n",
       "    }\n",
       "</style>\n",
       "<table border=\"1\" class=\"dataframe\">\n",
       "  <thead>\n",
       "    <tr style=\"text-align: right;\">\n",
       "      <th>beer_beerid</th>\n",
       "      <th>5</th>\n",
       "      <th>6</th>\n",
       "      <th>7</th>\n",
       "      <th>10</th>\n",
       "      <th>17</th>\n",
       "      <th>19</th>\n",
       "      <th>30</th>\n",
       "      <th>31</th>\n",
       "      <th>33</th>\n",
       "      <th>34</th>\n",
       "      <th>...</th>\n",
       "      <th>63989</th>\n",
       "      <th>64089</th>\n",
       "      <th>64228</th>\n",
       "      <th>67044</th>\n",
       "      <th>67106</th>\n",
       "      <th>67219</th>\n",
       "      <th>68960</th>\n",
       "      <th>69363</th>\n",
       "      <th>72138</th>\n",
       "      <th>74986</th>\n",
       "    </tr>\n",
       "    <tr>\n",
       "      <th>review_profilename</th>\n",
       "      <th></th>\n",
       "      <th></th>\n",
       "      <th></th>\n",
       "      <th></th>\n",
       "      <th></th>\n",
       "      <th></th>\n",
       "      <th></th>\n",
       "      <th></th>\n",
       "      <th></th>\n",
       "      <th></th>\n",
       "      <th></th>\n",
       "      <th></th>\n",
       "      <th></th>\n",
       "      <th></th>\n",
       "      <th></th>\n",
       "      <th></th>\n",
       "      <th></th>\n",
       "      <th></th>\n",
       "      <th></th>\n",
       "      <th></th>\n",
       "      <th></th>\n",
       "    </tr>\n",
       "  </thead>\n",
       "  <tbody>\n",
       "    <tr>\n",
       "      <th>0110x011</th>\n",
       "      <td>0.0</td>\n",
       "      <td>0.0</td>\n",
       "      <td>0.0</td>\n",
       "      <td>0.0</td>\n",
       "      <td>0.0</td>\n",
       "      <td>0.0</td>\n",
       "      <td>0.0</td>\n",
       "      <td>0.0</td>\n",
       "      <td>0.0</td>\n",
       "      <td>0.0</td>\n",
       "      <td>...</td>\n",
       "      <td>0.0</td>\n",
       "      <td>0.0</td>\n",
       "      <td>0.0</td>\n",
       "      <td>0.0</td>\n",
       "      <td>0.0</td>\n",
       "      <td>0.0</td>\n",
       "      <td>0.0</td>\n",
       "      <td>0.0</td>\n",
       "      <td>0.0</td>\n",
       "      <td>0.0</td>\n",
       "    </tr>\n",
       "    <tr>\n",
       "      <th>05Harley</th>\n",
       "      <td>0.0</td>\n",
       "      <td>0.0</td>\n",
       "      <td>0.0</td>\n",
       "      <td>0.0</td>\n",
       "      <td>0.0</td>\n",
       "      <td>0.0</td>\n",
       "      <td>0.0</td>\n",
       "      <td>0.0</td>\n",
       "      <td>0.0</td>\n",
       "      <td>0.0</td>\n",
       "      <td>...</td>\n",
       "      <td>0.0</td>\n",
       "      <td>0.0</td>\n",
       "      <td>0.0</td>\n",
       "      <td>0.0</td>\n",
       "      <td>0.0</td>\n",
       "      <td>0.0</td>\n",
       "      <td>0.0</td>\n",
       "      <td>0.0</td>\n",
       "      <td>0.0</td>\n",
       "      <td>0.0</td>\n",
       "    </tr>\n",
       "    <tr>\n",
       "      <th>0tt0</th>\n",
       "      <td>0.0</td>\n",
       "      <td>0.0</td>\n",
       "      <td>0.0</td>\n",
       "      <td>0.0</td>\n",
       "      <td>0.0</td>\n",
       "      <td>0.0</td>\n",
       "      <td>0.0</td>\n",
       "      <td>0.0</td>\n",
       "      <td>0.0</td>\n",
       "      <td>0.0</td>\n",
       "      <td>...</td>\n",
       "      <td>0.0</td>\n",
       "      <td>0.0</td>\n",
       "      <td>0.0</td>\n",
       "      <td>0.0</td>\n",
       "      <td>0.0</td>\n",
       "      <td>0.0</td>\n",
       "      <td>0.0</td>\n",
       "      <td>0.0</td>\n",
       "      <td>0.0</td>\n",
       "      <td>0.0</td>\n",
       "    </tr>\n",
       "    <tr>\n",
       "      <th>100floods</th>\n",
       "      <td>0.0</td>\n",
       "      <td>0.0</td>\n",
       "      <td>0.0</td>\n",
       "      <td>0.0</td>\n",
       "      <td>0.0</td>\n",
       "      <td>0.0</td>\n",
       "      <td>0.0</td>\n",
       "      <td>0.0</td>\n",
       "      <td>0.0</td>\n",
       "      <td>0.0</td>\n",
       "      <td>...</td>\n",
       "      <td>0.0</td>\n",
       "      <td>0.0</td>\n",
       "      <td>0.0</td>\n",
       "      <td>0.0</td>\n",
       "      <td>0.0</td>\n",
       "      <td>0.0</td>\n",
       "      <td>0.0</td>\n",
       "      <td>0.0</td>\n",
       "      <td>0.0</td>\n",
       "      <td>0.0</td>\n",
       "    </tr>\n",
       "    <tr>\n",
       "      <th>1099</th>\n",
       "      <td>0.0</td>\n",
       "      <td>0.0</td>\n",
       "      <td>0.0</td>\n",
       "      <td>0.0</td>\n",
       "      <td>0.0</td>\n",
       "      <td>0.0</td>\n",
       "      <td>0.0</td>\n",
       "      <td>0.0</td>\n",
       "      <td>0.0</td>\n",
       "      <td>0.0</td>\n",
       "      <td>...</td>\n",
       "      <td>0.0</td>\n",
       "      <td>0.0</td>\n",
       "      <td>0.0</td>\n",
       "      <td>0.0</td>\n",
       "      <td>0.0</td>\n",
       "      <td>0.0</td>\n",
       "      <td>0.0</td>\n",
       "      <td>0.0</td>\n",
       "      <td>0.0</td>\n",
       "      <td>0.0</td>\n",
       "    </tr>\n",
       "  </tbody>\n",
       "</table>\n",
       "<p>5 rows × 1020 columns</p>\n",
       "</div>"
      ],
      "text/plain": [
       "beer_beerid         5      6      7      10     17     19     30     31     \\\n",
       "review_profilename                                                           \n",
       "0110x011              0.0    0.0    0.0    0.0    0.0    0.0    0.0    0.0   \n",
       "05Harley              0.0    0.0    0.0    0.0    0.0    0.0    0.0    0.0   \n",
       "0tt0                  0.0    0.0    0.0    0.0    0.0    0.0    0.0    0.0   \n",
       "100floods             0.0    0.0    0.0    0.0    0.0    0.0    0.0    0.0   \n",
       "1099                  0.0    0.0    0.0    0.0    0.0    0.0    0.0    0.0   \n",
       "\n",
       "beer_beerid         33     34     ...  63989  64089  64228  67044  67106  \\\n",
       "review_profilename                ...                                      \n",
       "0110x011              0.0    0.0  ...    0.0    0.0    0.0    0.0    0.0   \n",
       "05Harley              0.0    0.0  ...    0.0    0.0    0.0    0.0    0.0   \n",
       "0tt0                  0.0    0.0  ...    0.0    0.0    0.0    0.0    0.0   \n",
       "100floods             0.0    0.0  ...    0.0    0.0    0.0    0.0    0.0   \n",
       "1099                  0.0    0.0  ...    0.0    0.0    0.0    0.0    0.0   \n",
       "\n",
       "beer_beerid         67219  68960  69363  72138  74986  \n",
       "review_profilename                                     \n",
       "0110x011              0.0    0.0    0.0    0.0    0.0  \n",
       "05Harley              0.0    0.0    0.0    0.0    0.0  \n",
       "0tt0                  0.0    0.0    0.0    0.0    0.0  \n",
       "100floods             0.0    0.0    0.0    0.0    0.0  \n",
       "1099                  0.0    0.0    0.0    0.0    0.0  \n",
       "\n",
       "[5 rows x 1020 columns]"
      ]
     },
     "execution_count": 29,
     "metadata": {},
     "output_type": "execute_result"
    }
   ],
   "source": [
    "user_rating = filter_data.pivot_table(index='review_profilename', columns='beer_beerid', values='review_overall')\n",
    "user_rating= user_rating.fillna(0)\n",
    "print(user_rating.shape)\n",
    "user_rating.head()"
   ]
  },
  {
   "cell_type": "markdown",
   "metadata": {},
   "source": [
    "Similarity between first 10 users"
   ]
  },
  {
   "cell_type": "code",
   "execution_count": 31,
   "metadata": {},
   "outputs": [
    {
     "data": {
      "image/png": "[encoded data removed]",
      "text/plain": [
       "<Figure size 288x288 with 1 Axes>"
      ]
     },
     "metadata": {
      "needs_background": "light"
     },
     "output_type": "display_data"
    }
   ],
   "source": [
    "plt.matshow(cosine_similarity(user_rating.head(10)))\n",
    "plt.show()"
   ]
  },
  {
   "cell_type": "markdown",
   "metadata": {},
   "source": [
    "Similarity between first 10 beers"
   ]
  },
  {
   "cell_type": "code",
   "execution_count": 32,
   "metadata": {},
   "outputs": [
    {
     "data": {
      "image/png": "[encoded data removed]",
      "text/plain": [
       "<Figure size 288x288 with 1 Axes>"
      ]
     },
     "metadata": {
      "needs_background": "light"
     },
     "output_type": "display_data"
    }
   ],
   "source": [
    "user_rating_T = user_rating.iloc[:,0:10].T\n",
    "plt.matshow(cosine_similarity(user_rating_T))\n",
    "plt.show()\n"
   ]
  },
  {
   "cell_type": "code",
   "execution_count": 47,
   "metadata": {},
   "outputs": [
    {
     "data": {
      "text/html": [
       "<div>\n",
       "<style scoped>\n",
       "    .dataframe tbody tr th:only-of-type {\n",
       "        vertical-align: middle;\n",
       "    }\n",
       "\n",
       "    .dataframe tbody tr th {\n",
       "        vertical-align: top;\n",
       "    }\n",
       "\n",
       "    .dataframe thead th {\n",
       "        text-align: right;\n",
       "    }\n",
       "</style>\n",
       "<table border=\"1\" class=\"dataframe\">\n",
       "  <thead>\n",
       "    <tr style=\"text-align: right;\">\n",
       "      <th>beer_beerid</th>\n",
       "      <th>5</th>\n",
       "      <th>6</th>\n",
       "      <th>7</th>\n",
       "      <th>10</th>\n",
       "      <th>17</th>\n",
       "      <th>19</th>\n",
       "      <th>30</th>\n",
       "      <th>31</th>\n",
       "      <th>33</th>\n",
       "      <th>34</th>\n",
       "      <th>...</th>\n",
       "      <th>63989</th>\n",
       "      <th>64089</th>\n",
       "      <th>64228</th>\n",
       "      <th>67044</th>\n",
       "      <th>67106</th>\n",
       "      <th>67219</th>\n",
       "      <th>68960</th>\n",
       "      <th>69363</th>\n",
       "      <th>72138</th>\n",
       "      <th>74986</th>\n",
       "    </tr>\n",
       "    <tr>\n",
       "      <th>review_profilename</th>\n",
       "      <th></th>\n",
       "      <th></th>\n",
       "      <th></th>\n",
       "      <th></th>\n",
       "      <th></th>\n",
       "      <th></th>\n",
       "      <th></th>\n",
       "      <th></th>\n",
       "      <th></th>\n",
       "      <th></th>\n",
       "      <th></th>\n",
       "      <th></th>\n",
       "      <th></th>\n",
       "      <th></th>\n",
       "      <th></th>\n",
       "      <th></th>\n",
       "      <th></th>\n",
       "      <th></th>\n",
       "      <th></th>\n",
       "      <th></th>\n",
       "      <th></th>\n",
       "    </tr>\n",
       "  </thead>\n",
       "  <tbody>\n",
       "    <tr>\n",
       "      <th>zrab11</th>\n",
       "      <td>0.0</td>\n",
       "      <td>0.0</td>\n",
       "      <td>0.0</td>\n",
       "      <td>0.0</td>\n",
       "      <td>0.0</td>\n",
       "      <td>0.0</td>\n",
       "      <td>0.0</td>\n",
       "      <td>0.0</td>\n",
       "      <td>0.0</td>\n",
       "      <td>0.0</td>\n",
       "      <td>...</td>\n",
       "      <td>0.0</td>\n",
       "      <td>0.0</td>\n",
       "      <td>0.0</td>\n",
       "      <td>0.0</td>\n",
       "      <td>0.0</td>\n",
       "      <td>0.0</td>\n",
       "      <td>0.0</td>\n",
       "      <td>0.0</td>\n",
       "      <td>0.0</td>\n",
       "      <td>0.0</td>\n",
       "    </tr>\n",
       "    <tr>\n",
       "      <th>ztaylor1</th>\n",
       "      <td>0.0</td>\n",
       "      <td>0.0</td>\n",
       "      <td>0.0</td>\n",
       "      <td>0.0</td>\n",
       "      <td>0.0</td>\n",
       "      <td>0.0</td>\n",
       "      <td>0.0</td>\n",
       "      <td>0.0</td>\n",
       "      <td>0.0</td>\n",
       "      <td>0.0</td>\n",
       "      <td>...</td>\n",
       "      <td>0.0</td>\n",
       "      <td>0.0</td>\n",
       "      <td>0.0</td>\n",
       "      <td>0.0</td>\n",
       "      <td>0.0</td>\n",
       "      <td>0.0</td>\n",
       "      <td>0.0</td>\n",
       "      <td>0.0</td>\n",
       "      <td>0.0</td>\n",
       "      <td>0.0</td>\n",
       "    </tr>\n",
       "    <tr>\n",
       "      <th>zuffenhausen</th>\n",
       "      <td>0.0</td>\n",
       "      <td>0.0</td>\n",
       "      <td>0.0</td>\n",
       "      <td>0.0</td>\n",
       "      <td>0.0</td>\n",
       "      <td>0.0</td>\n",
       "      <td>0.0</td>\n",
       "      <td>0.0</td>\n",
       "      <td>0.0</td>\n",
       "      <td>0.0</td>\n",
       "      <td>...</td>\n",
       "      <td>0.0</td>\n",
       "      <td>0.0</td>\n",
       "      <td>0.0</td>\n",
       "      <td>0.0</td>\n",
       "      <td>0.0</td>\n",
       "      <td>0.0</td>\n",
       "      <td>0.0</td>\n",
       "      <td>0.0</td>\n",
       "      <td>0.0</td>\n",
       "      <td>0.0</td>\n",
       "    </tr>\n",
       "    <tr>\n",
       "      <th>zuggy9</th>\n",
       "      <td>0.0</td>\n",
       "      <td>0.0</td>\n",
       "      <td>0.0</td>\n",
       "      <td>0.0</td>\n",
       "      <td>0.0</td>\n",
       "      <td>0.0</td>\n",
       "      <td>0.0</td>\n",
       "      <td>0.0</td>\n",
       "      <td>0.0</td>\n",
       "      <td>0.0</td>\n",
       "      <td>...</td>\n",
       "      <td>0.0</td>\n",
       "      <td>0.0</td>\n",
       "      <td>0.0</td>\n",
       "      <td>0.0</td>\n",
       "      <td>0.0</td>\n",
       "      <td>0.0</td>\n",
       "      <td>0.0</td>\n",
       "      <td>0.0</td>\n",
       "      <td>0.0</td>\n",
       "      <td>0.0</td>\n",
       "    </tr>\n",
       "    <tr>\n",
       "      <th>zymurgy4all</th>\n",
       "      <td>0.0</td>\n",
       "      <td>0.0</td>\n",
       "      <td>0.0</td>\n",
       "      <td>0.0</td>\n",
       "      <td>0.0</td>\n",
       "      <td>0.0</td>\n",
       "      <td>0.0</td>\n",
       "      <td>0.0</td>\n",
       "      <td>0.0</td>\n",
       "      <td>0.0</td>\n",
       "      <td>...</td>\n",
       "      <td>0.0</td>\n",
       "      <td>0.0</td>\n",
       "      <td>0.0</td>\n",
       "      <td>0.0</td>\n",
       "      <td>0.0</td>\n",
       "      <td>0.0</td>\n",
       "      <td>0.0</td>\n",
       "      <td>0.0</td>\n",
       "      <td>0.0</td>\n",
       "      <td>0.0</td>\n",
       "    </tr>\n",
       "  </tbody>\n",
       "</table>\n",
       "<p>5 rows × 1020 columns</p>\n",
       "</div>"
      ],
      "text/plain": [
       "beer_beerid         5      6      7      10     17     19     30     31     \\\n",
       "review_profilename                                                           \n",
       "zrab11                0.0    0.0    0.0    0.0    0.0    0.0    0.0    0.0   \n",
       "ztaylor1              0.0    0.0    0.0    0.0    0.0    0.0    0.0    0.0   \n",
       "zuffenhausen          0.0    0.0    0.0    0.0    0.0    0.0    0.0    0.0   \n",
       "zuggy9                0.0    0.0    0.0    0.0    0.0    0.0    0.0    0.0   \n",
       "zymurgy4all           0.0    0.0    0.0    0.0    0.0    0.0    0.0    0.0   \n",
       "\n",
       "beer_beerid         33     34     ...  63989  64089  64228  67044  67106  \\\n",
       "review_profilename                ...                                      \n",
       "zrab11                0.0    0.0  ...    0.0    0.0    0.0    0.0    0.0   \n",
       "ztaylor1              0.0    0.0  ...    0.0    0.0    0.0    0.0    0.0   \n",
       "zuffenhausen          0.0    0.0  ...    0.0    0.0    0.0    0.0    0.0   \n",
       "zuggy9                0.0    0.0  ...    0.0    0.0    0.0    0.0    0.0   \n",
       "zymurgy4all           0.0    0.0  ...    0.0    0.0    0.0    0.0    0.0   \n",
       "\n",
       "beer_beerid         67219  68960  69363  72138  74986  \n",
       "review_profilename                                     \n",
       "zrab11                0.0    0.0    0.0    0.0    0.0  \n",
       "ztaylor1              0.0    0.0    0.0    0.0    0.0  \n",
       "zuffenhausen          0.0    0.0    0.0    0.0    0.0  \n",
       "zuggy9                0.0    0.0    0.0    0.0    0.0  \n",
       "zymurgy4all           0.0    0.0    0.0    0.0    0.0  \n",
       "\n",
       "[5 rows x 1020 columns]"
      ]
     },
     "execution_count": 47,
     "metadata": {},
     "output_type": "execute_result"
    }
   ],
   "source": [
    "user_rating.tail()"
   ]
  },
  {
   "cell_type": "code",
   "execution_count": 56,
   "metadata": {},
   "outputs": [
    {
     "data": {
      "text/html": [
       "<pre>Preparing data set.</pre>"
      ],
      "text/plain": [
       "Preparing data set."
      ]
     },
     "metadata": {},
     "output_type": "display_data"
    },
    {
     "data": {
      "text/html": [
       "<pre>    Data has 189436 observations with 5713 users and 1020 items.</pre>"
      ],
      "text/plain": [
       "    Data has 189436 observations with 5713 users and 1020 items."
      ]
     },
     "metadata": {},
     "output_type": "display_data"
    },
    {
     "data": {
      "text/html": [
       "<pre>    Data prepared in: 0.253073s</pre>"
      ],
      "text/plain": [
       "    Data prepared in: 0.253073s"
      ]
     },
     "metadata": {},
     "output_type": "display_data"
    },
    {
     "data": {
      "text/html": [
       "<pre>Training ranking_factorization_recommender for recommendations.</pre>"
      ],
      "text/plain": [
       "Training ranking_factorization_recommender for recommendations."
      ]
     },
     "metadata": {},
     "output_type": "display_data"
    },
    {
     "data": {
      "text/html": [
       "<pre>+--------------------------------+--------------------------------------------------+----------+</pre>"
      ],
      "text/plain": [
       "+--------------------------------+--------------------------------------------------+----------+"
      ]
     },
     "metadata": {},
     "output_type": "display_data"
    },
    {
     "data": {
      "text/html": [
       "<pre>| Parameter                      | Description                                      | Value    |</pre>"
      ],
      "text/plain": [
       "| Parameter                      | Description                                      | Value    |"
      ]
     },
     "metadata": {},
     "output_type": "display_data"
    },
    {
     "data": {
      "text/html": [
       "<pre>+--------------------------------+--------------------------------------------------+----------+</pre>"
      ],
      "text/plain": [
       "+--------------------------------+--------------------------------------------------+----------+"
      ]
     },
     "metadata": {},
     "output_type": "display_data"
    },
    {
     "data": {
      "text/html": [
       "<pre>| num_factors                    | Factor Dimension                                 | 32       |</pre>"
      ],
      "text/plain": [
       "| num_factors                    | Factor Dimension                                 | 32       |"
      ]
     },
     "metadata": {},
     "output_type": "display_data"
    },
    {
     "data": {
      "text/html": [
       "<pre>| regularization                 | L2 Regularization on Factors                     | 1e-09    |</pre>"
      ],
      "text/plain": [
       "| regularization                 | L2 Regularization on Factors                     | 1e-09    |"
      ]
     },
     "metadata": {},
     "output_type": "display_data"
    },
    {
     "data": {
      "text/html": [
       "<pre>| solver                         | Solver used for training                         | sgd      |</pre>"
      ],
      "text/plain": [
       "| solver                         | Solver used for training                         | sgd      |"
      ]
     },
     "metadata": {},
     "output_type": "display_data"
    },
    {
     "data": {
      "text/html": [
       "<pre>| linear_regularization          | L2 Regularization on Linear Coefficients         | 1e-09    |</pre>"
      ],
      "text/plain": [
       "| linear_regularization          | L2 Regularization on Linear Coefficients         | 1e-09    |"
      ]
     },
     "metadata": {},
     "output_type": "display_data"
    },
    {
     "data": {
      "text/html": [
       "<pre>| ranking_regularization         | Rank-based Regularization Weight                 | 0.25     |</pre>"
      ],
      "text/plain": [
       "| ranking_regularization         | Rank-based Regularization Weight                 | 0.25     |"
      ]
     },
     "metadata": {},
     "output_type": "display_data"
    },
    {
     "data": {
      "text/html": [
       "<pre>| max_iterations                 | Maximum Number of Iterations                     | 25       |</pre>"
      ],
      "text/plain": [
       "| max_iterations                 | Maximum Number of Iterations                     | 25       |"
      ]
     },
     "metadata": {},
     "output_type": "display_data"
    },
    {
     "data": {
      "text/html": [
       "<pre>+--------------------------------+--------------------------------------------------+----------+</pre>"
      ],
      "text/plain": [
       "+--------------------------------+--------------------------------------------------+----------+"
      ]
     },
     "metadata": {},
     "output_type": "display_data"
    },
    {
     "data": {
      "text/html": [
       "<pre>  Optimizing model using SGD; tuning step size.</pre>"
      ],
      "text/plain": [
       "  Optimizing model using SGD; tuning step size."
      ]
     },
     "metadata": {},
     "output_type": "display_data"
    },
    {
     "data": {
      "text/html": [
       "<pre>  Using 23679 / 189436 points for tuning the step size.</pre>"
      ],
      "text/plain": [
       "  Using 23679 / 189436 points for tuning the step size."
      ]
     },
     "metadata": {},
     "output_type": "display_data"
    },
    {
     "data": {
      "text/html": [
       "<pre>+---------+-------------------+------------------------------------------+</pre>"
      ],
      "text/plain": [
       "+---------+-------------------+------------------------------------------+"
      ]
     },
     "metadata": {},
     "output_type": "display_data"
    },
    {
     "data": {
      "text/html": [
       "<pre>| Attempt | Initial Step Size | Estimated Objective Value                |</pre>"
      ],
      "text/plain": [
       "| Attempt | Initial Step Size | Estimated Objective Value                |"
      ]
     },
     "metadata": {},
     "output_type": "display_data"
    },
    {
     "data": {
      "text/html": [
       "<pre>+---------+-------------------+------------------------------------------+</pre>"
      ],
      "text/plain": [
       "+---------+-------------------+------------------------------------------+"
      ]
     },
     "metadata": {},
     "output_type": "display_data"
    },
    {
     "data": {
      "text/html": [
       "<pre>| 0       | 25                | Not Viable                               |</pre>"
      ],
      "text/plain": [
       "| 0       | 25                | Not Viable                               |"
      ]
     },
     "metadata": {},
     "output_type": "display_data"
    },
    {
     "data": {
      "text/html": [
       "<pre>| 1       | 6.25              | Not Viable                               |</pre>"
      ],
      "text/plain": [
       "| 1       | 6.25              | Not Viable                               |"
      ]
     },
     "metadata": {},
     "output_type": "display_data"
    },
    {
     "data": {
      "text/html": [
       "<pre>| 2       | 1.5625            | Not Viable                               |</pre>"
      ],
      "text/plain": [
       "| 2       | 1.5625            | Not Viable                               |"
      ]
     },
     "metadata": {},
     "output_type": "display_data"
    },
    {
     "data": {
      "text/html": [
       "<pre>| 3       | 0.390625          | Not Viable                               |</pre>"
      ],
      "text/plain": [
       "| 3       | 0.390625          | Not Viable                               |"
      ]
     },
     "metadata": {},
     "output_type": "display_data"
    },
    {
     "data": {
      "text/html": [
       "<pre>| 4       | 0.0976562         | 0.700662                                 |</pre>"
      ],
      "text/plain": [
       "| 4       | 0.0976562         | 0.700662                                 |"
      ]
     },
     "metadata": {},
     "output_type": "display_data"
    },
    {
     "data": {
      "text/html": [
       "<pre>| 5       | 0.0488281         | 0.700707                                 |</pre>"
      ],
      "text/plain": [
       "| 5       | 0.0488281         | 0.700707                                 |"
      ]
     },
     "metadata": {},
     "output_type": "display_data"
    },
    {
     "data": {
      "text/html": [
       "<pre>| 6       | 0.0244141         | 0.710405                                 |</pre>"
      ],
      "text/plain": [
       "| 6       | 0.0244141         | 0.710405                                 |"
      ]
     },
     "metadata": {},
     "output_type": "display_data"
    },
    {
     "data": {
      "text/html": [
       "<pre>| 7       | 0.012207          | 0.729378                                 |</pre>"
      ],
      "text/plain": [
       "| 7       | 0.012207          | 0.729378                                 |"
      ]
     },
     "metadata": {},
     "output_type": "display_data"
    },
    {
     "data": {
      "text/html": [
       "<pre>+---------+-------------------+------------------------------------------+</pre>"
      ],
      "text/plain": [
       "+---------+-------------------+------------------------------------------+"
      ]
     },
     "metadata": {},
     "output_type": "display_data"
    },
    {
     "data": {
      "text/html": [
       "<pre>| Final   | 0.0976562         | 0.700662                                 |</pre>"
      ],
      "text/plain": [
       "| Final   | 0.0976562         | 0.700662                                 |"
      ]
     },
     "metadata": {},
     "output_type": "display_data"
    },
    {
     "data": {
      "text/html": [
       "<pre>+---------+-------------------+------------------------------------------+</pre>"
      ],
      "text/plain": [
       "+---------+-------------------+------------------------------------------+"
      ]
     },
     "metadata": {},
     "output_type": "display_data"
    },
    {
     "data": {
      "text/html": [
       "<pre>Starting Optimization.</pre>"
      ],
      "text/plain": [
       "Starting Optimization."
      ]
     },
     "metadata": {},
     "output_type": "display_data"
    },
    {
     "data": {
      "text/html": [
       "<pre>+---------+--------------+-------------------+-----------------------+-------------+</pre>"
      ],
      "text/plain": [
       "+---------+--------------+-------------------+-----------------------+-------------+"
      ]
     },
     "metadata": {},
     "output_type": "display_data"
    },
    {
     "data": {
      "text/html": [
       "<pre>| Iter.   | Elapsed Time | Approx. Objective | Approx. Training RMSE | Step Size   |</pre>"
      ],
      "text/plain": [
       "| Iter.   | Elapsed Time | Approx. Objective | Approx. Training RMSE | Step Size   |"
      ]
     },
     "metadata": {},
     "output_type": "display_data"
    },
    {
     "data": {
      "text/html": [
       "<pre>+---------+--------------+-------------------+-----------------------+-------------+</pre>"
      ],
      "text/plain": [
       "+---------+--------------+-------------------+-----------------------+-------------+"
      ]
     },
     "metadata": {},
     "output_type": "display_data"
    },
    {
     "data": {
      "text/html": [
       "<pre>| Initial | 113us        | 0.902722          | 0.678513              |             |</pre>"
      ],
      "text/plain": [
       "| Initial | 113us        | 0.902722          | 0.678513              |             |"
      ]
     },
     "metadata": {},
     "output_type": "display_data"
    },
    {
     "data": {
      "text/html": [
       "<pre>+---------+--------------+-------------------+-----------------------+-------------+</pre>"
      ],
      "text/plain": [
       "+---------+--------------+-------------------+-----------------------+-------------+"
      ]
     },
     "metadata": {},
     "output_type": "display_data"
    },
    {
     "data": {
      "text/html": [
       "<pre>| 1       | 250.708ms    | 0.836669          | 0.708697              | 0.0976562   |</pre>"
      ],
      "text/plain": [
       "| 1       | 250.708ms    | 0.836669          | 0.708697              | 0.0976562   |"
      ]
     },
     "metadata": {},
     "output_type": "display_data"
    },
    {
     "data": {
      "text/html": [
       "<pre>| 2       | 514.132ms    | 0.798527          | 0.684081              | 0.0580668   |</pre>"
      ],
      "text/plain": [
       "| 2       | 514.132ms    | 0.798527          | 0.684081              | 0.0580668   |"
      ]
     },
     "metadata": {},
     "output_type": "display_data"
    },
    {
     "data": {
      "text/html": [
       "<pre>| 3       | 782.576ms    | 0.774809          | 0.669099              | 0.042841    |</pre>"
      ],
      "text/plain": [
       "| 3       | 782.576ms    | 0.774809          | 0.669099              | 0.042841    |"
      ]
     },
     "metadata": {},
     "output_type": "display_data"
    },
    {
     "data": {
      "text/html": [
       "<pre>| 4       | 984.678ms    | 0.762369          | 0.66042               | 0.0345267   |</pre>"
      ],
      "text/plain": [
       "| 4       | 984.678ms    | 0.762369          | 0.66042               | 0.0345267   |"
      ]
     },
     "metadata": {},
     "output_type": "display_data"
    },
    {
     "data": {
      "text/html": [
       "<pre>| 5       | 1.29s        | 0.751827          | 0.65209               | 0.029206    |</pre>"
      ],
      "text/plain": [
       "| 5       | 1.29s        | 0.751827          | 0.65209               | 0.029206    |"
      ]
     },
     "metadata": {},
     "output_type": "display_data"
    },
    {
     "data": {
      "text/html": [
       "<pre>| 10      | 2.28s        | 0.672662          | 0.593038              | 0.017366    |</pre>"
      ],
      "text/plain": [
       "| 10      | 2.28s        | 0.672662          | 0.593038              | 0.017366    |"
      ]
     },
     "metadata": {},
     "output_type": "display_data"
    },
    {
     "data": {
      "text/html": [
       "<pre>| 25      | 5.23s        | 0.522339          | 0.46842               | 0.00873464  |</pre>"
      ],
      "text/plain": [
       "| 25      | 5.23s        | 0.522339          | 0.46842               | 0.00873464  |"
      ]
     },
     "metadata": {},
     "output_type": "display_data"
    },
    {
     "data": {
      "text/html": [
       "<pre>+---------+--------------+-------------------+-----------------------+-------------+</pre>"
      ],
      "text/plain": [
       "+---------+--------------+-------------------+-----------------------+-------------+"
      ]
     },
     "metadata": {},
     "output_type": "display_data"
    },
    {
     "data": {
      "text/html": [
       "<pre>Optimization Complete: Maximum number of passes through the data reached.</pre>"
      ],
      "text/plain": [
       "Optimization Complete: Maximum number of passes through the data reached."
      ]
     },
     "metadata": {},
     "output_type": "display_data"
    },
    {
     "data": {
      "text/html": [
       "<pre>Computing final objective value and training RMSE.</pre>"
      ],
      "text/plain": [
       "Computing final objective value and training RMSE."
      ]
     },
     "metadata": {},
     "output_type": "display_data"
    },
    {
     "data": {
      "text/html": [
       "<pre>       Final objective value: 0.51079</pre>"
      ],
      "text/plain": [
       "       Final objective value: 0.51079"
      ]
     },
     "metadata": {},
     "output_type": "display_data"
    },
    {
     "data": {
      "text/html": [
       "<pre>       Final training RMSE: 0.445737</pre>"
      ],
      "text/plain": [
       "       Final training RMSE: 0.445737"
      ]
     },
     "metadata": {},
     "output_type": "display_data"
    }
   ],
   "source": [
    "actions = tc.SFrame(filter_data)\n",
    "training_data, validation_data = tc.recommender.util.random_split_by_user(actions, 'review_profilename', 'beer_beerid')\n",
    "model = tc.recommender.create(training_data, 'review_profilename', 'beer_beerid', target='review_overall')\n"
   ]
  },
  {
   "cell_type": "markdown",
   "metadata": {},
   "source": [
    "Making recommendations for all users\n"
   ]
  },
  {
   "cell_type": "code",
   "execution_count": 57,
   "metadata": {},
   "outputs": [
    {
     "data": {
      "text/html": [
       "<pre>recommendations finished on 1000/5713 queries. users per second: 48742.4</pre>"
      ],
      "text/plain": [
       "recommendations finished on 1000/5713 queries. users per second: 48742.4"
      ]
     },
     "metadata": {},
     "output_type": "display_data"
    },
    {
     "data": {
      "text/html": [
       "<pre>recommendations finished on 2000/5713 queries. users per second: 49222.3</pre>"
      ],
      "text/plain": [
       "recommendations finished on 2000/5713 queries. users per second: 49222.3"
      ]
     },
     "metadata": {},
     "output_type": "display_data"
    },
    {
     "data": {
      "text/html": [
       "<pre>recommendations finished on 3000/5713 queries. users per second: 46615</pre>"
      ],
      "text/plain": [
       "recommendations finished on 3000/5713 queries. users per second: 46615"
      ]
     },
     "metadata": {},
     "output_type": "display_data"
    },
    {
     "data": {
      "text/html": [
       "<pre>recommendations finished on 4000/5713 queries. users per second: 48096</pre>"
      ],
      "text/plain": [
       "recommendations finished on 4000/5713 queries. users per second: 48096"
      ]
     },
     "metadata": {},
     "output_type": "display_data"
    },
    {
     "data": {
      "text/html": [
       "<pre>recommendations finished on 5000/5713 queries. users per second: 46082.1</pre>"
      ],
      "text/plain": [
       "recommendations finished on 5000/5713 queries. users per second: 46082.1"
      ]
     },
     "metadata": {},
     "output_type": "display_data"
    },
    {
     "data": {
      "text/html": [
       "<div style=\"max-height:1000px;max-width:1500px;overflow:auto;\"><table frame=\"box\" rules=\"cols\">\n",
       "    <tr>\n",
       "        <th style=\"padding-left: 1em; padding-right: 1em; text-align: center\">review_profilename</th>\n",
       "        <th style=\"padding-left: 1em; padding-right: 1em; text-align: center\">beer_beerid</th>\n",
       "        <th style=\"padding-left: 1em; padding-right: 1em; text-align: center\">score</th>\n",
       "        <th style=\"padding-left: 1em; padding-right: 1em; text-align: center\">rank</th>\n",
       "    </tr>\n",
       "    <tr>\n",
       "        <td style=\"padding-left: 1em; padding-right: 1em; text-align: center; vertical-align: top\">Brent</td>\n",
       "        <td style=\"padding-left: 1em; padding-right: 1em; text-align: center; vertical-align: top\">727</td>\n",
       "        <td style=\"padding-left: 1em; padding-right: 1em; text-align: center; vertical-align: top\">5.267679383268218</td>\n",
       "        <td style=\"padding-left: 1em; padding-right: 1em; text-align: center; vertical-align: top\">1</td>\n",
       "    </tr>\n",
       "    <tr>\n",
       "        <td style=\"padding-left: 1em; padding-right: 1em; text-align: center; vertical-align: top\">Brent</td>\n",
       "        <td style=\"padding-left: 1em; padding-right: 1em; text-align: center; vertical-align: top\">141</td>\n",
       "        <td style=\"padding-left: 1em; padding-right: 1em; text-align: center; vertical-align: top\">5.055699398031097</td>\n",
       "        <td style=\"padding-left: 1em; padding-right: 1em; text-align: center; vertical-align: top\">2</td>\n",
       "    </tr>\n",
       "    <tr>\n",
       "        <td style=\"padding-left: 1em; padding-right: 1em; text-align: center; vertical-align: top\">Brent</td>\n",
       "        <td style=\"padding-left: 1em; padding-right: 1em; text-align: center; vertical-align: top\">1010</td>\n",
       "        <td style=\"padding-left: 1em; padding-right: 1em; text-align: center; vertical-align: top\">4.821624805440765</td>\n",
       "        <td style=\"padding-left: 1em; padding-right: 1em; text-align: center; vertical-align: top\">3</td>\n",
       "    </tr>\n",
       "    <tr>\n",
       "        <td style=\"padding-left: 1em; padding-right: 1em; text-align: center; vertical-align: top\">Brent</td>\n",
       "        <td style=\"padding-left: 1em; padding-right: 1em; text-align: center; vertical-align: top\">15813</td>\n",
       "        <td style=\"padding-left: 1em; padding-right: 1em; text-align: center; vertical-align: top\">4.6979002256296685</td>\n",
       "        <td style=\"padding-left: 1em; padding-right: 1em; text-align: center; vertical-align: top\">4</td>\n",
       "    </tr>\n",
       "    <tr>\n",
       "        <td style=\"padding-left: 1em; padding-right: 1em; text-align: center; vertical-align: top\">Brent</td>\n",
       "        <td style=\"padding-left: 1em; padding-right: 1em; text-align: center; vertical-align: top\">54904</td>\n",
       "        <td style=\"padding-left: 1em; padding-right: 1em; text-align: center; vertical-align: top\">4.641127039899688</td>\n",
       "        <td style=\"padding-left: 1em; padding-right: 1em; text-align: center; vertical-align: top\">5</td>\n",
       "    </tr>\n",
       "    <tr>\n",
       "        <td style=\"padding-left: 1em; padding-right: 1em; text-align: center; vertical-align: top\">Brent</td>\n",
       "        <td style=\"padding-left: 1em; padding-right: 1em; text-align: center; vertical-align: top\">92</td>\n",
       "        <td style=\"padding-left: 1em; padding-right: 1em; text-align: center; vertical-align: top\">4.579319705476623</td>\n",
       "        <td style=\"padding-left: 1em; padding-right: 1em; text-align: center; vertical-align: top\">6</td>\n",
       "    </tr>\n",
       "    <tr>\n",
       "        <td style=\"padding-left: 1em; padding-right: 1em; text-align: center; vertical-align: top\">Brent</td>\n",
       "        <td style=\"padding-left: 1em; padding-right: 1em; text-align: center; vertical-align: top\">38394</td>\n",
       "        <td style=\"padding-left: 1em; padding-right: 1em; text-align: center; vertical-align: top\">4.501423825731139</td>\n",
       "        <td style=\"padding-left: 1em; padding-right: 1em; text-align: center; vertical-align: top\">7</td>\n",
       "    </tr>\n",
       "    <tr>\n",
       "        <td style=\"padding-left: 1em; padding-right: 1em; text-align: center; vertical-align: top\">Brent</td>\n",
       "        <td style=\"padding-left: 1em; padding-right: 1em; text-align: center; vertical-align: top\">1577</td>\n",
       "        <td style=\"padding-left: 1em; padding-right: 1em; text-align: center; vertical-align: top\">4.458369483461242</td>\n",
       "        <td style=\"padding-left: 1em; padding-right: 1em; text-align: center; vertical-align: top\">8</td>\n",
       "    </tr>\n",
       "    <tr>\n",
       "        <td style=\"padding-left: 1em; padding-right: 1em; text-align: center; vertical-align: top\">Brent</td>\n",
       "        <td style=\"padding-left: 1em; padding-right: 1em; text-align: center; vertical-align: top\">1180</td>\n",
       "        <td style=\"padding-left: 1em; padding-right: 1em; text-align: center; vertical-align: top\">4.409208108892303</td>\n",
       "        <td style=\"padding-left: 1em; padding-right: 1em; text-align: center; vertical-align: top\">9</td>\n",
       "    </tr>\n",
       "    <tr>\n",
       "        <td style=\"padding-left: 1em; padding-right: 1em; text-align: center; vertical-align: top\">Brent</td>\n",
       "        <td style=\"padding-left: 1em; padding-right: 1em; text-align: center; vertical-align: top\">34483</td>\n",
       "        <td style=\"padding-left: 1em; padding-right: 1em; text-align: center; vertical-align: top\">4.390814949979644</td>\n",
       "        <td style=\"padding-left: 1em; padding-right: 1em; text-align: center; vertical-align: top\">10</td>\n",
       "    </tr>\n",
       "</table>\n",
       "[57130 rows x 4 columns]<br/>Note: Only the head of the SFrame is printed.<br/>You can use print_rows(num_rows=m, num_columns=n) to print more rows and columns.\n",
       "</div>"
      ],
      "text/plain": [
       "Columns:\n",
       "\treview_profilename\tstr\n",
       "\tbeer_beerid\tint\n",
       "\tscore\tfloat\n",
       "\trank\tint\n",
       "\n",
       "Rows: 57130\n",
       "\n",
       "Data:\n",
       "+--------------------+-------------+--------------------+------+\n",
       "| review_profilename | beer_beerid |       score        | rank |\n",
       "+--------------------+-------------+--------------------+------+\n",
       "|       Brent        |     727     | 5.267679383268218  |  1   |\n",
       "|       Brent        |     141     | 5.055699398031097  |  2   |\n",
       "|       Brent        |     1010    | 4.821624805440765  |  3   |\n",
       "|       Brent        |    15813    | 4.6979002256296685 |  4   |\n",
       "|       Brent        |    54904    | 4.641127039899688  |  5   |\n",
       "|       Brent        |      92     | 4.579319705476623  |  6   |\n",
       "|       Brent        |    38394    | 4.501423825731139  |  7   |\n",
       "|       Brent        |     1577    | 4.458369483461242  |  8   |\n",
       "|       Brent        |     1180    | 4.409208108892303  |  9   |\n",
       "|       Brent        |    34483    | 4.390814949979644  |  10  |\n",
       "+--------------------+-------------+--------------------+------+\n",
       "[57130 rows x 4 columns]\n",
       "Note: Only the head of the SFrame is printed.\n",
       "You can use print_rows(num_rows=m, num_columns=n) to print more rows and columns."
      ]
     },
     "execution_count": 57,
     "metadata": {},
     "output_type": "execute_result"
    }
   ],
   "source": [
    "results = model.recommend()\n",
    "results"
   ]
  },
  {
   "cell_type": "markdown",
   "metadata": {},
   "source": [
    "Making recommendations for specific users"
   ]
  },
  {
   "cell_type": "code",
   "execution_count": 58,
   "metadata": {},
   "outputs": [
    {
     "name": "stdout",
     "output_type": "stream",
     "text": [
      "+--------------------+-------------+--------------------+------+\n",
      "| review_profilename | beer_beerid |       score        | rank |\n",
      "+--------------------+-------------+--------------------+------+\n",
      "|      0110x011      |    29619    | 5.100538824906211  |  1   |\n",
      "|      0110x011      |    21690    | 5.043399189820152  |  2   |\n",
      "|      0110x011      |     7971    | 4.906917904724937  |  3   |\n",
      "|      0110x011      |    32286    | 4.8671835411690285 |  4   |\n",
      "|      0110x011      |     9474    | 4.824432586541038  |  5   |\n",
      "|      0110x011      |    22227    | 4.780541275849204  |  6   |\n",
      "|      0110x011      |    22790    | 4.756658886780601  |  7   |\n",
      "|      0110x011      |    28203    | 4.728523587097984  |  8   |\n",
      "|      0110x011      |    17112    | 4.689326142182212  |  9   |\n",
      "|      0110x011      |    45653    | 4.664738630165916  |  10  |\n",
      "+--------------------+-------------+--------------------+------+\n",
      "[10 rows x 4 columns]\n",
      "\n"
     ]
    }
   ],
   "source": [
    "recommendations = model.recommend(users=['0110x011'])\n",
    "print(recommendations)"
   ]
  },
  {
   "cell_type": "markdown",
   "metadata": {},
   "source": [
    "Making recommendations for new users\n"
   ]
  },
  {
   "cell_type": "code",
   "execution_count": 59,
   "metadata": {},
   "outputs": [
    {
     "name": "stdout",
     "output_type": "stream",
     "text": [
      "+--------------------+-------------+--------------------+------+\n",
      "| review_profilename | beer_beerid |       score        | rank |\n",
      "+--------------------+-------------+--------------------+------+\n",
      "|      Charlie       |     1093    | 3.861451533844333  |  1   |\n",
      "|      Charlie       |     731     | 3.841584456374507  |  2   |\n",
      "|      Charlie       |     276     | 3.7960865844391396 |  3   |\n",
      "|      Charlie       |      92     | 3.7851853642962983 |  4   |\n",
      "|      Charlie       |     1708    | 3.783260529150825  |  5   |\n",
      "|      Charlie       |      34     | 3.775033165922027  |  6   |\n",
      "|      Charlie       |     1010    |  3.73880266140924  |  7   |\n",
      "|      Charlie       |    11757    | 3.7348835517071297 |  8   |\n",
      "|      Charlie       |     6108    | 3.7337847698830178 |  9   |\n",
      "|      Charlie       |      88     | 3.729377885570388  |  10  |\n",
      "+--------------------+-------------+--------------------+------+\n",
      "[10 rows x 4 columns]\n",
      "\n"
     ]
    }
   ],
   "source": [
    "recommendations = model.recommend(['Charlie'])\n",
    "print(recommendations)"
   ]
  },
  {
   "cell_type": "markdown",
   "metadata": {},
   "source": [
    "Evaluating the model"
   ]
  },
  {
   "cell_type": "code",
   "execution_count": 61,
   "metadata": {},
   "outputs": [
    {
     "name": "stdout",
     "output_type": "stream",
     "text": [
      "PROGRESS: Evaluate model model\n",
      "\n",
      "Precision and recall summary statistics by cutoff\n",
      "+--------+----------------------+----------------------+\n",
      "| cutoff |    mean_precision    |     mean_recall      |\n",
      "+--------+----------------------+----------------------+\n",
      "|   1    | 0.03211991434689507  | 0.004339959723763038 |\n",
      "|   2    | 0.03586723768736619  | 0.012302674440969896 |\n",
      "|   3    | 0.03247680228408279  | 0.017736392914334202 |\n",
      "|   4    | 0.03131691648822269  | 0.021807987867693387 |\n",
      "|   5    | 0.03169164882226977  | 0.028925163924103756 |\n",
      "|   6    | 0.029264810849393297 | 0.03077291400666732  |\n",
      "|   7    | 0.028296115019883734 |  0.0338019946856409  |\n",
      "|   8    | 0.02877408993576017  | 0.038966514075503576 |\n",
      "|   9    | 0.028313109683559316 | 0.042953664792088044 |\n",
      "|   10   | 0.027730192719486086 | 0.04650290762089987  |\n",
      "+--------+----------------------+----------------------+\n",
      "[10 rows x 3 columns]\n",
      "\n",
      "\n",
      "Overall RMSE: 0.7817737513676978\n",
      "\n",
      "Per User RMSE (best)\n",
      "+--------------------+----------------------+-------+\n",
      "| review_profilename |         rmse         | count |\n",
      "+--------------------+----------------------+-------+\n",
      "|    gregmoscetti    | 0.022849959542613263 |   1   |\n",
      "+--------------------+----------------------+-------+\n",
      "[1 rows x 3 columns]\n",
      "\n",
      "\n",
      "Per User RMSE (worst)\n",
      "+--------------------+-------------------+-------+\n",
      "| review_profilename |        rmse       | count |\n",
      "+--------------------+-------------------+-------+\n",
      "|       Strand       | 2.269234915485244 |   1   |\n",
      "+--------------------+-------------------+-------+\n",
      "[1 rows x 3 columns]\n",
      "\n",
      "\n",
      "Per Item RMSE (best)\n",
      "+-------------+----------------------+-------+\n",
      "| beer_beerid |         rmse         | count |\n",
      "+-------------+----------------------+-------+\n",
      "|     2563    | 0.005061139573912854 |   1   |\n",
      "+-------------+----------------------+-------+\n",
      "[1 rows x 3 columns]\n",
      "\n",
      "\n",
      "Per Item RMSE (worst)\n",
      "+-------------+--------------------+-------+\n",
      "| beer_beerid |        rmse        | count |\n",
      "+-------------+--------------------+-------+\n",
      "|    28039    | 1.9911873589850853 |   1   |\n",
      "+-------------+--------------------+-------+\n",
      "[1 rows x 3 columns]\n",
      "\n"
     ]
    },
    {
     "data": {
      "text/plain": [
       "[{'precision_recall_by_user': Columns:\n",
       "  \treview_profilename\tstr\n",
       "  \tcutoff\tint\n",
       "  \tprecision\tfloat\n",
       "  \trecall\tfloat\n",
       "  \tcount\tint\n",
       "  \n",
       "  Rows: 16812\n",
       "  \n",
       "  Data:\n",
       "  +--------------------+--------+--------------------+---------------------+-------+\n",
       "  | review_profilename | cutoff |     precision      |        recall       | count |\n",
       "  +--------------------+--------+--------------------+---------------------+-------+\n",
       "  |       JayQue       |   1    |        1.0         | 0.02631578947368421 |   38  |\n",
       "  |       JayQue       |   2    |        0.5         | 0.02631578947368421 |   38  |\n",
       "  |       JayQue       |   3    | 0.3333333333333333 | 0.02631578947368421 |   38  |\n",
       "  |       JayQue       |   4    |        0.25        | 0.02631578947368421 |   38  |\n",
       "  |       JayQue       |   5    |        0.4         | 0.05263157894736842 |   38  |\n",
       "  |       JayQue       |   6    | 0.3333333333333333 | 0.05263157894736842 |   38  |\n",
       "  |       JayQue       |   7    | 0.2857142857142857 | 0.05263157894736842 |   38  |\n",
       "  |       JayQue       |   8    |        0.25        | 0.05263157894736842 |   38  |\n",
       "  |       JayQue       |   9    | 0.2222222222222222 | 0.05263157894736842 |   38  |\n",
       "  |       JayQue       |   10   |        0.2         | 0.05263157894736842 |   38  |\n",
       "  +--------------------+--------+--------------------+---------------------+-------+\n",
       "  [16812 rows x 5 columns]\n",
       "  Note: Only the head of the SFrame is printed.\n",
       "  You can use print_rows(num_rows=m, num_columns=n) to print more rows and columns.,\n",
       "  'precision_recall_overall': Columns:\n",
       "  \tcutoff\tint\n",
       "  \tprecision\tfloat\n",
       "  \trecall\tfloat\n",
       "  \n",
       "  Rows: 18\n",
       "  \n",
       "  Data:\n",
       "  +--------+----------------------+-----------------------+\n",
       "  | cutoff |      precision       |         recall        |\n",
       "  +--------+----------------------+-----------------------+\n",
       "  |   1    | 0.03211991434689509  | 0.0043399597237630365 |\n",
       "  |   2    | 0.03586723768736614  |  0.012302674440969889 |\n",
       "  |   3    | 0.032476802284082805 |  0.017736392914334223 |\n",
       "  |   4    |  0.0313169164882227  |  0.021807987867693394 |\n",
       "  |   5    | 0.031691648822269755 |  0.028925163924103763 |\n",
       "  |   6    | 0.029264810849393308 |  0.030772914006667318 |\n",
       "  |   7    | 0.028296115019883748 |  0.03380199468564095  |\n",
       "  |   8    | 0.02877408993576017  |  0.03896651407550356  |\n",
       "  |   9    | 0.028313109683559327 |  0.042953664792088044 |\n",
       "  |   10   | 0.02773019271948608  |  0.04650290762089987  |\n",
       "  +--------+----------------------+-----------------------+\n",
       "  [18 rows x 3 columns]\n",
       "  Note: Only the head of the SFrame is printed.\n",
       "  You can use print_rows(num_rows=m, num_columns=n) to print more rows and columns.,\n",
       "  'rmse_by_user': Columns:\n",
       "  \treview_profilename\tstr\n",
       "  \trmse\tfloat\n",
       "  \tcount\tint\n",
       "  \n",
       "  Rows: 934\n",
       "  \n",
       "  Data:\n",
       "  +--------------------+---------------------+-------+\n",
       "  | review_profilename |         rmse        | count |\n",
       "  +--------------------+---------------------+-------+\n",
       "  |     JohnFatAss     |  0.9924012272164551 |   6   |\n",
       "  |      PatYoda       |  0.5966395456838591 |   2   |\n",
       "  |       patra7       |  1.1390592057608178 |   1   |\n",
       "  |     Cozzatoad      | 0.28861894315296605 |   2   |\n",
       "  |       leif86       | 0.46771987412347293 |   1   |\n",
       "  |       jsulko       |  0.4607345711089561 |   1   |\n",
       "  |   FtownThrowDown   |  0.8416125250758605 |   29  |\n",
       "  |      diamondc      |  0.8658823826493723 |   11  |\n",
       "  |     jkendrick      |  0.6259754173035772 |   2   |\n",
       "  |       echdk3       |  0.3425355676911881 |   1   |\n",
       "  +--------------------+---------------------+-------+\n",
       "  [934 rows x 3 columns]\n",
       "  Note: Only the head of the SFrame is printed.\n",
       "  You can use print_rows(num_rows=m, num_columns=n) to print more rows and columns.,\n",
       "  'rmse_by_item': Columns:\n",
       "  \tbeer_beerid\tint\n",
       "  \trmse\tfloat\n",
       "  \tcount\tint\n",
       "  \n",
       "  Rows: 1015\n",
       "  \n",
       "  Data:\n",
       "  +-------------+---------------------+-------+\n",
       "  | beer_beerid |         rmse        | count |\n",
       "  +-------------+---------------------+-------+\n",
       "  |     2779    |  0.6593847973320558 |   3   |\n",
       "  |    48139    |  0.2840726641528072 |   2   |\n",
       "  |     2011    |  0.5550603847120581 |   8   |\n",
       "  |     232     |  0.9555666656373876 |   6   |\n",
       "  |     310     | 0.18467816734202633 |   2   |\n",
       "  |    34688    |  0.7015667123403864 |   12  |\n",
       "  |     363     |  0.5934916422029034 |   6   |\n",
       "  |     6314    |  0.485133404622216  |   1   |\n",
       "  |    36672    |  1.2398013870812843 |   1   |\n",
       "  |     431     |  0.6964446551628712 |   2   |\n",
       "  +-------------+---------------------+-------+\n",
       "  [1015 rows x 3 columns]\n",
       "  Note: Only the head of the SFrame is printed.\n",
       "  You can use print_rows(num_rows=m, num_columns=n) to print more rows and columns.,\n",
       "  'rmse_overall': 0.7817737513676978}]"
      ]
     },
     "execution_count": 61,
     "metadata": {},
     "output_type": "execute_result"
    }
   ],
   "source": [
    "tc.recommender.util.compare_models(validation_data, [model], model_names=[\"model\"])"
   ]
  },
  {
   "cell_type": "code",
   "execution_count": null,
   "metadata": {},
   "outputs": [],
   "source": []
  }
 ],
 "metadata": {
  "kernelspec": {
   "display_name": "Python 3",
   "language": "python",
   "name": "python3"
  },
  "language_info": {
   "codemirror_mode": {
    "name": "ipython",
    "version": 3
   },
   "file_extension": ".py",
   "mimetype": "text/x-python",
   "name": "python",
   "nbconvert_exporter": "python",
   "pygments_lexer": "ipython3",
   "version": "3.7.3"
  }
 },
 "nbformat": 4,
 "nbformat_minor": 2
}
